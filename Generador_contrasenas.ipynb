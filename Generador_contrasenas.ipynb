{
 "cells": [
  {
   "cell_type": "markdown",
   "metadata": {},
   "source": [
    "# Generador de contraseñas seguras "
   ]
  },
  {
   "cell_type": "code",
   "execution_count": 1,
   "metadata": {},
   "outputs": [
    {
     "name": "stdout",
     "output_type": "stream",
     "text": [
      "Tu contraseña segura es: z36;eP%3rZ$r>mg(\n"
     ]
    }
   ],
   "source": [
    "import string\n",
    "import secrets\n",
    "\n",
    "def generar_contrasena(longitud):\n",
    "    if longitud < 10:\n",
    "        print(\"Error: Una contraseña segura debe tener al menos 10 caracteres.\")\n",
    "        return None\n",
    "    \n",
    "    caracteres = string.ascii_letters + string.digits + string.punctuation\n",
    "    \n",
    "    contraseña = [\n",
    "        secrets.choice(string.ascii_lowercase),\n",
    "        secrets.choice(string.ascii_uppercase),\n",
    "        secrets.choice(string.digits),\n",
    "        secrets.choice(string.punctuation)\n",
    "    ]\n",
    "    \n",
    "    contraseña += [secrets.choice(caracteres) for _ in range(longitud - 4)]\n",
    "    \n",
    "    secrets.SystemRandom().shuffle(contraseña)\n",
    "    \n",
    "    return ''.join(contraseña)\n",
    "\n",
    "try:\n",
    "    longitud = int(input(\"Introduce la longitud deseada para la contraseña (mínimo 10): \"))\n",
    "    contrasena_generada = generar_contrasena(longitud)\n",
    "    if contrasena_generada:\n",
    "        print(f\"Tu contraseña segura es: {contrasena_generada}\")\n",
    "except ValueError:\n",
    "    print(\"Error: Por favor introduce un número válido.\")\n",
    "\n"
   ]
  }
 ],
 "metadata": {
  "kernelspec": {
   "display_name": "Python 3",
   "language": "python",
   "name": "python3"
  },
  "language_info": {
   "codemirror_mode": {
    "name": "ipython",
    "version": 3
   },
   "file_extension": ".py",
   "mimetype": "text/x-python",
   "name": "python",
   "nbconvert_exporter": "python",
   "pygments_lexer": "ipython3",
   "version": "3.10.4"
  }
 },
 "nbformat": 4,
 "nbformat_minor": 2
}
